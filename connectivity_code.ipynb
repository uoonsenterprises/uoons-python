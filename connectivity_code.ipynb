{
 "cells": [
  {
   "cell_type": "code",
   "execution_count": null,
   "metadata": {},
   "outputs": [],
   "source": [
    "\n",
    "!pip install mysql-connector-python\n"
   ]
  },
  {
   "cell_type": "code",
   "execution_count": null,
   "metadata": {},
   "outputs": [],
   "source": [
    "import mysql.connector\n",
    "\n",
    "# Establish a connection to the database\n",
    "def create_connection():\n",
    "    connection = mysql.connector.connect(\n",
    "        host=\"uoons-ecom-1.cmvveubanvwt.ap-south-1.rds.amazonaws.com\",\n",
    "        user=\"uoons\",\n",
    "        password=\"Uoons#2023\",\n",
    "        database=\"uoons_ecom\"\n",
    "    )\n",
    "    return connection"
   ]
  },
  {
   "cell_type": "code",
   "execution_count": null,
   "metadata": {},
   "outputs": [],
   "source": [
    "connection = create_connection()\n",
    "connection"
   ]
  }
 ],
 "metadata": {
  "language_info": {
   "name": "python"
  }
 },
 "nbformat": 4,
 "nbformat_minor": 2
}
